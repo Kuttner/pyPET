{
 "cells": [
  {
   "cell_type": "markdown",
   "id": "2af27451",
   "metadata": {},
   "source": [
    "# PET kinetic modeling example\n",
    "\n",
    "This notbook shows an example on how to run simple tracer kinetic modeling of PET data."
   ]
  },
  {
   "cell_type": "code",
   "execution_count": null,
   "id": "568b3101",
   "metadata": {},
   "outputs": [],
   "source": [
    "import numpy as np\n",
    "import matplotlib.pyplot as plt\n",
    "from compartment models import oneTCM\n"
   ]
  }
 ],
 "metadata": {
  "kernelspec": {
   "display_name": "Python 3 (ipykernel)",
   "language": "python",
   "name": "python3"
  },
  "language_info": {
   "codemirror_mode": {
    "name": "ipython",
    "version": 3
   },
   "file_extension": ".py",
   "mimetype": "text/x-python",
   "name": "python",
   "nbconvert_exporter": "python",
   "pygments_lexer": "ipython3",
   "version": "3.9.7"
  }
 },
 "nbformat": 4,
 "nbformat_minor": 5
}
